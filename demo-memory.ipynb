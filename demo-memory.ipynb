{
 "cells": [
  {
   "cell_type": "code",
   "execution_count": null,
   "id": "bcd1233c",
   "metadata": {},
   "outputs": [],
   "source": [
    "from llms import get_model\n",
    "from dotenv import load_dotenv\n",
    "\n",
    "# Load environment variables from .env file\n",
    "load_dotenv()"
   ]
  },
  {
   "cell_type": "code",
   "execution_count": null,
   "id": "db1b0c1d",
   "metadata": {},
   "outputs": [],
   "source": [
    "# Initialise LLM\n",
    "llm = get_model()"
   ]
  },
  {
   "cell_type": "markdown",
   "id": "526aec95",
   "metadata": {},
   "source": [
    "# Using conversation chains"
   ]
  },
  {
   "cell_type": "code",
   "execution_count": null,
   "id": "d16249fb",
   "metadata": {},
   "outputs": [],
   "source": [
    "from langchain.chains import ConversationChain\n",
    "from langchain.memory import ConversationBufferMemory\n",
    "\n",
    "buffer_memory = ConversationBufferMemory()\n",
    "\n",
    "conversation = ConversationChain(\n",
    "    llm=llm,\n",
    "    memory=buffer_memory,\n",
    "    verbose=True\n",
    ")\n",
    "\n",
    "result = conversation.run(\"What are some of the best places to visit in Barcelona?\")\n",
    "print(f\"---Result: {result}\")\n",
    "\n",
    "result = conversation.run(\"And what's the best time of the year to visit?\")\n",
    "print(f\"---Result: {result}\")\n",
    "\n",
    "result = conversation.run(\"What clothing would you recommend I wear for that season(s)?\")\n",
    "print(f\"---Result: {result}\")\n",
    "\n",
    "print(\"\")\n",
    "\n",
    "# You can also manually read the current memory contents by using print(f\"Accumulated prompt: {conversation.memory.buffer}\")"
   ]
  },
  {
   "cell_type": "code",
   "execution_count": null,
   "id": "59d5a00f",
   "metadata": {},
   "outputs": [],
   "source": [
    "from langchain.memory import ConversationSummaryMemory\n",
    "\n",
    "summary_memory = ConversationSummaryMemory(llm=llm)\n",
    "\n",
    "conversation = ConversationChain(\n",
    "    llm=llm,\n",
    "    memory=summary_memory,\n",
    "    verbose=True\n",
    ")\n",
    "\n",
    "\n",
    "result = conversation.run(\"I'd like to learn about woodworking, what are the main topics I should know about?\")\n",
    "print(f\"--- Result: {result}\")\n",
    "\n",
    "result = conversation.run(\"Ok, and what would be some good projects to master the core skills I need?\")\n",
    "print(f\"--- Result: {result}\")\n",
    "\n",
    "result = conversation.run(\"Tell me about the most important instruments I need to buy\")\n",
    "print(f\"--- Result: {result}\")"
   ]
  }
 ],
 "metadata": {
  "kernelspec": {
   "display_name": "Python 3 (ipykernel)",
   "language": "python",
   "name": "python3"
  },
  "language_info": {
   "codemirror_mode": {
    "name": "ipython",
    "version": 3
   },
   "file_extension": ".py",
   "mimetype": "text/x-python",
   "name": "python",
   "nbconvert_exporter": "python",
   "pygments_lexer": "ipython3",
   "version": "3.9.16"
  }
 },
 "nbformat": 4,
 "nbformat_minor": 5
}
