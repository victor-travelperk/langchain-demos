{
 "cells": [
  {
   "cell_type": "code",
   "execution_count": null,
   "id": "6cee312c",
   "metadata": {},
   "outputs": [],
   "source": [
    "from dotenv import load_dotenv\n",
    "\n",
    "load_dotenv()"
   ]
  },
  {
   "cell_type": "markdown",
   "id": "47e4f4fc",
   "metadata": {},
   "source": [
    "# Prompt templates"
   ]
  },
  {
   "cell_type": "code",
   "execution_count": null,
   "id": "6de0b1b9",
   "metadata": {},
   "outputs": [],
   "source": [
    "from langchain.prompts import PromptTemplate\n",
    "\n",
    "string_prompt = PromptTemplate.from_template(\"tell me 3 paintings by {artist}\")\n",
    "string_prompt_value = string_prompt.format_prompt(artist=\"Caravaggio\")\n",
    "print(string_prompt_value.to_string())"
   ]
  },
  {
   "cell_type": "code",
   "execution_count": null,
   "id": "0b059727",
   "metadata": {},
   "outputs": [],
   "source": [
    "from langchain.prompts import ChatPromptTemplate\n",
    "\n",
    "string_prompt = ChatPromptTemplate.from_template(\"check what happened with trip {trip_id}\")\n",
    "string_prompt_value = string_prompt.format_prompt(trip_id=123)\n",
    "print(string_prompt_value.to_string())"
   ]
  },
  {
   "cell_type": "code",
   "execution_count": null,
   "id": "c7d13140",
   "metadata": {},
   "outputs": [],
   "source": [
    "from langchain.prompts import load_prompt\n",
    "\n",
    "loaded_prompt = load_prompt(\"./trip_planning_prompt.json\")\n",
    "print(loaded_prompt.template)"
   ]
  },
  {
   "cell_type": "code",
   "execution_count": null,
   "id": "6c7911c7",
   "metadata": {},
   "outputs": [],
   "source": [
    "from langchain.prompts import FewShotPromptTemplate\n",
    "\n",
    "examples = [\n",
    "    {\"dish\": \"Lomo saltado\", \"country\": \"Peru\"},\n",
    "    {\"dish\": \"Panettone\", \"country\": \"Italy\"},\n",
    "    {\"dish\": \"Gazpacho\", \"country\": \"Spain\"},\n",
    "]\n",
    "\n",
    "example_prompt_template = \"\"\"\n",
    "The dish {dish} was originally created at {country}\n",
    "\"\"\"\n",
    "\n",
    "example_prompt = PromptTemplate(\n",
    "    input_variables=[\"dish\", \"country\"],\n",
    "    template=example_prompt_template\n",
    ") \n",
    "\n",
    "few_shot_prompt = FewShotPromptTemplate(\n",
    "    examples=examples,\n",
    "    example_prompt=example_prompt,\n",
    "    prefix=\"Give the origin of every dish\",\n",
    "    suffix=\"The dish {dish} was original created at \",\n",
    "    input_variables=[\"dish\"],\n",
    "    example_separator=\"\\n\",\n",
    ")\n",
    "\n",
    "print(few_shot_prompt.format(dish=\"pasteis de nata\"))"
   ]
  },
  {
   "cell_type": "markdown",
   "id": "209f7a23",
   "metadata": {},
   "source": [
    "# Chains"
   ]
  },
  {
   "cell_type": "code",
   "execution_count": null,
   "id": "749af87c",
   "metadata": {},
   "outputs": [],
   "source": [
    "import os\n",
    "from langchain.llms import OpenAI\n",
    "\n",
    "# Function to load the appropriate model\n",
    "def get_model():\n",
    "    api_key = os.getenv(\"OPENAI_API_KEY\")\n",
    "    model = \"text-davinci-003\"\n",
    "    temperature = 0\n",
    "    return OpenAI(model_name=model, openai_api_key=api_key, temperature=temperature)"
   ]
  },
  {
   "cell_type": "code",
   "execution_count": null,
   "id": "f9f886c0",
   "metadata": {},
   "outputs": [],
   "source": [
    "prompt_template = \"\"\"Question: I'm planning a trip to {city}, I'm travelling in the month of {travel_month}.\n",
    "Give me some actitivies I can do, I specially like to {activities_i_like}\n",
    "\n",
    "Answer like a carismatic tour guide\n",
    "\n",
    "Answer:\"\"\"\n",
    "\n",
    "prompt = PromptTemplate(template=prompt_template, input_variables=[\"city\", \"travel_month\", \"activities_i_like\"])\n",
    "\n",
    "\n",
    "from langchain import LLMChain\n",
    "\n",
    "llm_chain = LLMChain(\n",
    "    prompt=prompt,\n",
    "    llm=get_model(),\n",
    ")"
   ]
  },
  {
   "cell_type": "code",
   "execution_count": null,
   "id": "f8ea7085",
   "metadata": {},
   "outputs": [],
   "source": [
    "print(llm_chain.run({\"city\": \"Tokyo\", \"travel_month\": \"February\", \"activities_i_like\": \"videogames\"}))"
   ]
  },
  {
   "cell_type": "code",
   "execution_count": null,
   "id": "3d68c263",
   "metadata": {},
   "outputs": [],
   "source": [
    "questions = [\n",
    "    {'city': 'Barcelona', \"travel_month\": \"September\", \"activities_i_like\": \"hiking\"},\n",
    "    {'city': 'Berlin', \"travel_month\": \"December\", \"activities_i_like\": \"art museums, parks\"}\n",
    "]"
   ]
  },
  {
   "cell_type": "code",
   "execution_count": null,
   "id": "6181143e",
   "metadata": {},
   "outputs": [],
   "source": [
    "res = llm_chain.generate(questions)\n",
    "print(res)"
   ]
  }
 ],
 "metadata": {
  "kernelspec": {
   "display_name": "Python 3 (ipykernel)",
   "language": "python",
   "name": "python3"
  },
  "language_info": {
   "codemirror_mode": {
    "name": "ipython",
    "version": 3
   },
   "file_extension": ".py",
   "mimetype": "text/x-python",
   "name": "python",
   "nbconvert_exporter": "python",
   "pygments_lexer": "ipython3",
   "version": "3.9.16"
  }
 },
 "nbformat": 4,
 "nbformat_minor": 5
}
